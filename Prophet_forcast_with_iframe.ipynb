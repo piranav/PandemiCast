{
  "nbformat": 4,
  "nbformat_minor": 0,
  "metadata": {
    "colab": {
      "name": "Prophet_forcast.ipynb",
      "provenance": [],
      "collapsed_sections": []
    },
    "kernelspec": {
      "name": "python3",
      "display_name": "Python 3"
    },
    "language_info": {
      "name": "python"
    }
  },
  "cells": [
    {
      "cell_type": "code",
      "execution_count": null,
      "metadata": {
        "id": "khK9OUjOCCAx"
      },
      "outputs": [],
      "source": [
        "import pandas as pd\n",
        "import numpy as np\n",
        "import seaborn as sns\n",
        "import matplotlib.pyplot as plt\n",
        "from fbprophet import Prophet\n",
        "from fbprophet.plot import plot_plotly"
      ]
    },
    {
      "cell_type": "code",
      "source": [
        "from google.colab import drive\n",
        "drive.mount('/content/drive')"
      ],
      "metadata": {
        "colab": {
          "base_uri": "https://localhost:8080/"
        },
        "id": "Aht0u4CaHEGE",
        "outputId": "a2c10772-826d-4e45-be71-4253f6c9622e"
      },
      "execution_count": null,
      "outputs": [
        {
          "output_type": "stream",
          "name": "stdout",
          "text": [
            "Mounted at /content/drive\n"
          ]
        }
      ]
    },
    {
      "cell_type": "code",
      "source": [
        "Covid_Data = pd.read_csv(\"/content/drive/MyDrive/Software Project/1.csv\")\n"
      ],
      "metadata": {
        "id": "q7vYKWzKCIoa"
      },
      "execution_count": null,
      "outputs": []
    },
    {
      "cell_type": "code",
      "source": [
        "Covid_Data[\"state\"].unique()"
      ],
      "metadata": {
        "colab": {
          "base_uri": "https://localhost:8080/"
        },
        "id": "HtoT8O0MPVrS",
        "outputId": "7ede4e21-d42f-466b-f6d4-33555748c2cf"
      },
      "execution_count": null,
      "outputs": [
        {
          "output_type": "execute_result",
          "data": {
            "text/plain": [
              "array(['IL', 'NC', 'ND', 'WI', 'VI', 'DE', 'MT', 'MI', 'ME', 'NH', 'CT',\n",
              "       'VT', 'GU', 'SC', 'FSM', 'WY', 'KY', 'DC', 'LA', 'VA', 'UT', 'PR',\n",
              "       'FL', 'KS', 'GA', 'MP', 'CO', 'OK', 'NYC', 'NY', 'WV', 'AK', 'MA',\n",
              "       'AR', 'AS', 'TX', 'HI', 'PW', 'NM', 'OH', 'RMI', 'IA', 'SD', 'TN',\n",
              "       'PA', 'MS', 'MD', 'AL', 'ID', 'MO', 'IN', 'WA', 'CA', 'NE', 'NV',\n",
              "       'OR', 'MN', 'RI', 'NJ', 'AZ'], dtype=object)"
            ]
          },
          "metadata": {},
          "execution_count": 4
        }
      ]
    },
    {
      "cell_type": "code",
      "source": [
        "state_dict = {\"Illinois\":\"IL\", \"North Carolina\":\"NC\", \"North Dakota\":\"ND\", \"Wisconsin\":\"WI\", \"Virgin Islands\":\"VI\",\"Delaware\":\"DE\", \"Montana\": \"MT\",\"Michigan\":\"MI\", \"Maine\":\"ME\", \"New Hampshire\":\"NH\", \"Connecticut\":\"CT\",\n",
        "\"Vermont\":\"VT\", \"Guam\":\"GU\",\"South Carolina\":\"SC\", \"Micronesia\":\"FSM\", \"Wyoming\": \"WY\", \"Kentucky\":\"KY\",\"Washington DC\":\"DC\",\"Louisiana\":\"LA\",\n",
        "\"Virginia\":\"VA\", \"Utah\":\"UT\",\"Puerto Rico\":\"PR\", \"Florida\":\"FL\",\"Kansas\": \"KS\", \"Georgia\": \"GA\", \"Northern Mariana Islands\":\"MP\", \"Colorado\":\"CO\",\"Oklahoma\":\"OK\",\"New York City\":\"NYC\",\"New York\":\"NY\", \"West Virginia\":\"WV\", \"Alaska\":\"AK\",\n",
        "\"Massachusetts\":\"MA\", \"Arkansas\":\"AR\", \"American Samoa\" : \"AS\", \"Texas\":\"TX\", \"Hawaii\":\"HI\", \"Palau\":\"PW\", \"New Mexico\":\"NM\", \"Ohio\":\"OH\", \"Marshall Islands\":\"RMI\", \"Iowa\":\"IA\", \"South Dakota\": \"SD\",\"Tennessee\":\"TN\", \"Pennsylvania\":\"PA\", \"Mississippi\":\"MS\",\"Maryland\":\"MD\", \"Alabama\":\"AL\", \"Idaho\":\"ID\", \"Missouri\":\"MO\", \"Indiana\":\"IN\",\n",
        "\"Washington\":\"WA\",\"California\":\"CA\", \"Nebraska\":\"NE\", \"Nevada\":\"NV\", \"Oregon\":\"OR\", \"Minnesota\":\"MN\", \"Rhode Island\":\"RI\", \"New Jersey\":\"NJ\", \"Arizona\":\"AZ\"}"
      ],
      "metadata": {
        "id": "JPcTDcjbPbp9"
      },
      "execution_count": null,
      "outputs": []
    },
    {
      "cell_type": "code",
      "source": [
        "def state_df(code):\n",
        "  df = Covid_Data.loc[Covid_Data[\"state\"]==code]\n",
        "  df_prophet = pd.DataFrame()\n",
        "  df_prophet[\"ds\"] = df[\"submission_date\"]\n",
        "  df_prophet[\"y\"] = df[\"new_case\"]\n",
        "  df_prophet.reset_index()\n",
        "  return df_prophet\n"
      ],
      "metadata": {
        "id": "fwF-Fc3xo8Ng"
      },
      "execution_count": null,
      "outputs": []
    },
    {
      "cell_type": "code",
      "source": [
        "def predict_state(x):\n",
        "  state = x\n",
        "  #state = input(\"Enter your state \")\n",
        "  code = \"\"\n",
        "  for i in state_dict:\n",
        "    if str(state) == i:\n",
        "      code = state_dict[i]\n",
        "  x_df = state_df(code)\n",
        "  m = Prophet(daily_seasonality=True)\n",
        "  m.fit(x_df)\n",
        "  future = m.make_future_dataframe(periods=365)\n",
        "  forecast = m.predict(future)\n",
        "  fig = plot_plotly(m, forecast)\n",
        "  return fig\n",
        "\n",
        "\n"
      ],
      "metadata": {
        "id": "7GZj32QYnsqM"
      },
      "execution_count": null,
      "outputs": []
    },
    {
      "cell_type": "code",
      "source": [
        "!pip install chart_studio"
      ],
      "metadata": {
        "colab": {
          "base_uri": "https://localhost:8080/"
        },
        "id": "YwnzUpUASE8T",
        "outputId": "21ef2bd3-f4e8-4463-ded6-eb53b23f5135"
      },
      "execution_count": null,
      "outputs": [
        {
          "output_type": "stream",
          "name": "stdout",
          "text": [
            "Collecting chart_studio\n",
            "  Downloading chart_studio-1.1.0-py3-none-any.whl (64 kB)\n",
            "\u001b[?25l\r\u001b[K     |█████                           | 10 kB 21.8 MB/s eta 0:00:01\r\u001b[K     |██████████▏                     | 20 kB 27.1 MB/s eta 0:00:01\r\u001b[K     |███████████████▎                | 30 kB 13.4 MB/s eta 0:00:01\r\u001b[K     |████████████████████▍           | 40 kB 9.9 MB/s eta 0:00:01\r\u001b[K     |█████████████████████████▍      | 51 kB 4.5 MB/s eta 0:00:01\r\u001b[K     |██████████████████████████████▌ | 61 kB 4.9 MB/s eta 0:00:01\r\u001b[K     |████████████████████████████████| 64 kB 1.6 MB/s \n",
            "\u001b[?25hRequirement already satisfied: requests in /usr/local/lib/python3.7/dist-packages (from chart_studio) (2.23.0)\n",
            "Requirement already satisfied: six in /usr/local/lib/python3.7/dist-packages (from chart_studio) (1.15.0)\n",
            "Requirement already satisfied: plotly in /usr/local/lib/python3.7/dist-packages (from chart_studio) (5.5.0)\n",
            "Collecting retrying>=1.3.3\n",
            "  Downloading retrying-1.3.3.tar.gz (10 kB)\n",
            "Requirement already satisfied: tenacity>=6.2.0 in /usr/local/lib/python3.7/dist-packages (from plotly->chart_studio) (8.0.1)\n",
            "Requirement already satisfied: chardet<4,>=3.0.2 in /usr/local/lib/python3.7/dist-packages (from requests->chart_studio) (3.0.4)\n",
            "Requirement already satisfied: idna<3,>=2.5 in /usr/local/lib/python3.7/dist-packages (from requests->chart_studio) (2.10)\n",
            "Requirement already satisfied: urllib3!=1.25.0,!=1.25.1,<1.26,>=1.21.1 in /usr/local/lib/python3.7/dist-packages (from requests->chart_studio) (1.24.3)\n",
            "Requirement already satisfied: certifi>=2017.4.17 in /usr/local/lib/python3.7/dist-packages (from requests->chart_studio) (2021.10.8)\n",
            "Building wheels for collected packages: retrying\n",
            "  Building wheel for retrying (setup.py) ... \u001b[?25l\u001b[?25hdone\n",
            "  Created wheel for retrying: filename=retrying-1.3.3-py3-none-any.whl size=11447 sha256=23259ed692bcff16cd86af2fb8a69441bd4e753d707f3eb6a323af9aaf683a9a\n",
            "  Stored in directory: /root/.cache/pip/wheels/f9/8d/8d/f6af3f7f9eea3553bc2fe6d53e4b287dad18b06a861ac56ddf\n",
            "Successfully built retrying\n",
            "Installing collected packages: retrying, chart-studio\n",
            "Successfully installed chart-studio-1.1.0 retrying-1.3.3\n"
          ]
        }
      ]
    },
    {
      "cell_type": "code",
      "source": [
        "import chart_studio\n",
        "import chart_studio.plotly as cs\n",
        "import chart_studio.tools as tls\n",
        "\n",
        "username = 'vinaysahit'\n",
        "api_key = 'LNb6R1lHM2Cs2ApuThXk'\n",
        "chart_studio.tools.set_credentials_file(username=username, api_key=api_key)\n"
      ],
      "metadata": {
        "id": "3soGqhUyol3L"
      },
      "execution_count": null,
      "outputs": []
    },
    {
      "cell_type": "code",
      "source": [
        "#Alabama\n",
        "fig_alabama = predict_state(\"Alabama\")\n",
        "cs.plot(fig_alabama, filename = 'Alabama', auto_open=True)\n"
      ],
      "metadata": {
        "colab": {
          "base_uri": "https://localhost:8080/",
          "height": 35
        },
        "id": "GtAo7_dFRl3M",
        "outputId": "40912036-8135-4922-b467-11361313b040"
      },
      "execution_count": null,
      "outputs": [
        {
          "output_type": "execute_result",
          "data": {
            "application/vnd.google.colaboratory.intrinsic+json": {
              "type": "string"
            },
            "text/plain": [
              "'https://plotly.com/~vinaysahit/9/'"
            ]
          },
          "metadata": {},
          "execution_count": 11
        }
      ]
    },
    {
      "cell_type": "code",
      "source": [
        "#Alaska\n",
        "fig_alaska = predict_state(\"Alaska\")\n",
        "cs.plot(fig_alaska, filename = 'Alaska', auto_open=True)\n"
      ],
      "metadata": {
        "colab": {
          "base_uri": "https://localhost:8080/",
          "height": 35
        },
        "id": "ojc7dBixShWe",
        "outputId": "f9bdb93a-6c43-4e79-be3c-99c096943254"
      },
      "execution_count": null,
      "outputs": [
        {
          "output_type": "execute_result",
          "data": {
            "application/vnd.google.colaboratory.intrinsic+json": {
              "type": "string"
            },
            "text/plain": [
              "'https://plotly.com/~vinaysahit/12/'"
            ]
          },
          "metadata": {},
          "execution_count": 13
        }
      ]
    },
    {
      "cell_type": "code",
      "source": [
        "#Arizona\n",
        "fig_arizona = predict_state(\"Arizona\")\n",
        "cs.plot(fig_arizona, filename = 'Arizona', auto_open=True)\n"
      ],
      "metadata": {
        "colab": {
          "base_uri": "https://localhost:8080/",
          "height": 35
        },
        "id": "fEacJwe-TEx0",
        "outputId": "d61aca37-0e39-4974-938b-72a9f3eb1a12"
      },
      "execution_count": null,
      "outputs": [
        {
          "output_type": "execute_result",
          "data": {
            "application/vnd.google.colaboratory.intrinsic+json": {
              "type": "string"
            },
            "text/plain": [
              "'https://plotly.com/~vinaysahit/14/'"
            ]
          },
          "metadata": {},
          "execution_count": 15
        }
      ]
    },
    {
      "cell_type": "code",
      "source": [
        "#Arkansas\n",
        "fig_arkansas = predict_state(\"Arkansas\")\n",
        "cs.plot(fig_arkansas, filename = 'Arkansas', auto_open=True)\n"
      ],
      "metadata": {
        "colab": {
          "base_uri": "https://localhost:8080/",
          "height": 35
        },
        "id": "k3TM7kiJTV4C",
        "outputId": "c236ea57-a5bb-4ab5-8424-320d3f2b5da7"
      },
      "execution_count": null,
      "outputs": [
        {
          "output_type": "execute_result",
          "data": {
            "application/vnd.google.colaboratory.intrinsic+json": {
              "type": "string"
            },
            "text/plain": [
              "'https://plotly.com/~vinaysahit/16/'"
            ]
          },
          "metadata": {},
          "execution_count": 17
        }
      ]
    },
    {
      "cell_type": "code",
      "source": [
        "#California\n",
        "fig_cali = predict_state(\"California\")\n",
        "cs.plot(fig_cali, filename = 'California', auto_open=True)\n"
      ],
      "metadata": {
        "colab": {
          "base_uri": "https://localhost:8080/",
          "height": 35
        },
        "id": "w4Ve3ts3ToNG",
        "outputId": "fdb5958e-8f0c-4ede-bddb-2ac838764de4"
      },
      "execution_count": null,
      "outputs": [
        {
          "output_type": "execute_result",
          "data": {
            "application/vnd.google.colaboratory.intrinsic+json": {
              "type": "string"
            },
            "text/plain": [
              "'https://plotly.com/~vinaysahit/18/'"
            ]
          },
          "metadata": {},
          "execution_count": 19
        }
      ]
    },
    {
      "cell_type": "code",
      "source": [
        "#Colorado\n",
        "fig_colorado = predict_state(\"Colorado\")\n",
        "cs.plot(fig_colorado, filename = 'Colorado', auto_open=True)\n"
      ],
      "metadata": {
        "colab": {
          "base_uri": "https://localhost:8080/",
          "height": 35
        },
        "id": "RkljPMa2T7MF",
        "outputId": "c15bde98-3495-46ce-b6b3-c93d24e8cf55"
      },
      "execution_count": null,
      "outputs": [
        {
          "output_type": "execute_result",
          "data": {
            "application/vnd.google.colaboratory.intrinsic+json": {
              "type": "string"
            },
            "text/plain": [
              "'https://plotly.com/~vinaysahit/20/'"
            ]
          },
          "metadata": {},
          "execution_count": 22
        }
      ]
    },
    {
      "cell_type": "code",
      "source": [
        "#Connecticut\n",
        "fig_Connecticut = predict_state(\"Connecticut\")\n",
        "x = cs.plot(fig_Connecticut, filename = 'COnnecticut', auto_open=True)\n",
        "tls.get_embed(str(x))\n",
        "\n"
      ],
      "metadata": {
        "colab": {
          "base_uri": "https://localhost:8080/",
          "height": 53
        },
        "id": "0Hzm3EMaUceq",
        "outputId": "3b95b5ed-34c5-40ea-b4af-1c8ed6565307"
      },
      "execution_count": null,
      "outputs": [
        {
          "output_type": "execute_result",
          "data": {
            "application/vnd.google.colaboratory.intrinsic+json": {
              "type": "string"
            },
            "text/plain": [
              "'<iframe id=\"igraph\" scrolling=\"no\" style=\"border:none;\" seamless=\"seamless\" src=\"https://plotly.com/~vinaysahit/22.embed\" height=\"525\" width=\"100%\"></iframe>'"
            ]
          },
          "metadata": {},
          "execution_count": 25
        }
      ]
    },
    {
      "cell_type": "code",
      "source": [
        "#Delaware\n",
        "fig_Delaware = predict_state(\"Delaware\")\n",
        "x = cs.plot(fig_Delaware, filename = 'Delaware', auto_open=True)\n",
        "tls.get_embed(str(x))\n"
      ],
      "metadata": {
        "colab": {
          "base_uri": "https://localhost:8080/",
          "height": 53
        },
        "id": "0LONC4e3U4yU",
        "outputId": "fd871bba-e4b7-4de9-ffe3-4f5aac38918f"
      },
      "execution_count": null,
      "outputs": [
        {
          "output_type": "execute_result",
          "data": {
            "application/vnd.google.colaboratory.intrinsic+json": {
              "type": "string"
            },
            "text/plain": [
              "'<iframe id=\"igraph\" scrolling=\"no\" style=\"border:none;\" seamless=\"seamless\" src=\"https://plotly.com/~vinaysahit/24.embed\" height=\"525\" width=\"100%\"></iframe>'"
            ]
          },
          "metadata": {},
          "execution_count": 26
        }
      ]
    },
    {
      "cell_type": "code",
      "source": [
        "#Florida\n",
        "fig_Florida = predict_state(\"Florida\")\n",
        "x = cs.plot(fig_Florida, filename = 'Florida', auto_open=True)\n",
        "tls.get_embed(str(x))\n"
      ],
      "metadata": {
        "colab": {
          "base_uri": "https://localhost:8080/",
          "height": 53
        },
        "id": "e-yKgJrBVJwh",
        "outputId": "c72f9265-ac0e-4566-8d9a-01d72ad65eda"
      },
      "execution_count": null,
      "outputs": [
        {
          "output_type": "execute_result",
          "data": {
            "application/vnd.google.colaboratory.intrinsic+json": {
              "type": "string"
            },
            "text/plain": [
              "'<iframe id=\"igraph\" scrolling=\"no\" style=\"border:none;\" seamless=\"seamless\" src=\"https://plotly.com/~vinaysahit/26.embed\" height=\"525\" width=\"100%\"></iframe>'"
            ]
          },
          "metadata": {},
          "execution_count": 27
        }
      ]
    },
    {
      "cell_type": "code",
      "source": [
        "#Georgia\n",
        "fig_Georgia = predict_state(\"Georgia\")\n",
        "x = cs.plot(fig_Georgia, filename = 'Georgia', auto_open=True)\n",
        "tls.get_embed(str(x))\n"
      ],
      "metadata": {
        "colab": {
          "base_uri": "https://localhost:8080/",
          "height": 53
        },
        "id": "-KKYVIIWVZqN",
        "outputId": "e6ba85c7-bafb-4560-84a6-3cd22cbe42b2"
      },
      "execution_count": null,
      "outputs": [
        {
          "output_type": "execute_result",
          "data": {
            "application/vnd.google.colaboratory.intrinsic+json": {
              "type": "string"
            },
            "text/plain": [
              "'<iframe id=\"igraph\" scrolling=\"no\" style=\"border:none;\" seamless=\"seamless\" src=\"https://plotly.com/~vinaysahit/28.embed\" height=\"525\" width=\"100%\"></iframe>'"
            ]
          },
          "metadata": {},
          "execution_count": 28
        }
      ]
    },
    {
      "cell_type": "code",
      "source": [
        "#Hawaii\n",
        "fig_Hawaii = predict_state(\"Hawaii\")\n",
        "x = cs.plot(fig_Hawaii, filename = 'Hawaii', auto_open=True)\n",
        "tls.get_embed(str(x))\n"
      ],
      "metadata": {
        "colab": {
          "base_uri": "https://localhost:8080/",
          "height": 53
        },
        "id": "k-osDqyMVn1g",
        "outputId": "5cdb6b82-dd92-45af-926f-69da94f7cade"
      },
      "execution_count": null,
      "outputs": [
        {
          "output_type": "execute_result",
          "data": {
            "application/vnd.google.colaboratory.intrinsic+json": {
              "type": "string"
            },
            "text/plain": [
              "'<iframe id=\"igraph\" scrolling=\"no\" style=\"border:none;\" seamless=\"seamless\" src=\"https://plotly.com/~vinaysahit/30.embed\" height=\"525\" width=\"100%\"></iframe>'"
            ]
          },
          "metadata": {},
          "execution_count": 32
        }
      ]
    },
    {
      "cell_type": "code",
      "source": [
        "#Idaho\n",
        "fig_Idaho = predict_state(\"Idaho\")\n",
        "x = cs.plot(fig_Idaho, filename = 'Idaho', auto_open=True)\n",
        "tls.get_embed(str(x))\n"
      ],
      "metadata": {
        "colab": {
          "base_uri": "https://localhost:8080/",
          "height": 53
        },
        "id": "6Q1ubvtpWCCU",
        "outputId": "a7170762-fb3e-4079-faec-fbb006d516ba"
      },
      "execution_count": null,
      "outputs": [
        {
          "output_type": "execute_result",
          "data": {
            "application/vnd.google.colaboratory.intrinsic+json": {
              "type": "string"
            },
            "text/plain": [
              "'<iframe id=\"igraph\" scrolling=\"no\" style=\"border:none;\" seamless=\"seamless\" src=\"https://plotly.com/~vinaysahit/32.embed\" height=\"525\" width=\"100%\"></iframe>'"
            ]
          },
          "metadata": {},
          "execution_count": 33
        }
      ]
    },
    {
      "cell_type": "code",
      "source": [
        "def predict_state_iframe(x):\n",
        "  state = x\n",
        "  #state = input(\"Enter your state \")\n",
        "  code = \"\"\n",
        "  for i in state_dict:\n",
        "    if str(state) == i:\n",
        "      code = state_dict[i]\n",
        "  x_df = state_df(code)\n",
        "  m = Prophet(daily_seasonality=True)\n",
        "  m.fit(x_df)\n",
        "  future = m.make_future_dataframe(periods=365)\n",
        "  forecast = m.predict(future)\n",
        "  fig = plot_plotly(m, forecast)\n",
        "  x = cs.plot(fig, filename = str(state), auto_open=True)\n",
        "  return tls.get_embed(str(x))\n",
        "\n",
        "  \n"
      ],
      "metadata": {
        "id": "pfl6nt2tWY5d"
      },
      "execution_count": null,
      "outputs": []
    },
    {
      "cell_type": "code",
      "source": [
        "#Illinois\n",
        "predict_state_iframe(\"Illinois\")"
      ],
      "metadata": {
        "colab": {
          "base_uri": "https://localhost:8080/",
          "height": 53
        },
        "id": "_vJoDFigWnBP",
        "outputId": "329a3f5a-4b89-4ec4-839c-e216686b35f9"
      },
      "execution_count": null,
      "outputs": [
        {
          "output_type": "execute_result",
          "data": {
            "application/vnd.google.colaboratory.intrinsic+json": {
              "type": "string"
            },
            "text/plain": [
              "'<iframe id=\"igraph\" scrolling=\"no\" style=\"border:none;\" seamless=\"seamless\" src=\"https://plotly.com/~vinaysahit/34.embed\" height=\"525\" width=\"100%\"></iframe>'"
            ]
          },
          "metadata": {},
          "execution_count": 35
        }
      ]
    },
    {
      "cell_type": "code",
      "source": [
        "#Indiana\n",
        "predict_state_iframe(\"Indiana\")"
      ],
      "metadata": {
        "colab": {
          "base_uri": "https://localhost:8080/",
          "height": 53
        },
        "id": "bkJ7bvJbW2FZ",
        "outputId": "0bf6c47f-04b2-4ba2-fc10-24108b15bcf8"
      },
      "execution_count": null,
      "outputs": [
        {
          "output_type": "execute_result",
          "data": {
            "application/vnd.google.colaboratory.intrinsic+json": {
              "type": "string"
            },
            "text/plain": [
              "'<iframe id=\"igraph\" scrolling=\"no\" style=\"border:none;\" seamless=\"seamless\" src=\"https://plotly.com/~vinaysahit/36.embed\" height=\"525\" width=\"100%\"></iframe>'"
            ]
          },
          "metadata": {},
          "execution_count": 36
        }
      ]
    },
    {
      "cell_type": "code",
      "source": [
        "#Iowa\n",
        "predict_state_iframe(\"Iowa\")"
      ],
      "metadata": {
        "colab": {
          "base_uri": "https://localhost:8080/",
          "height": 53
        },
        "id": "m0KiSyLuW_u_",
        "outputId": "321938fa-7352-426f-8431-7571824db755"
      },
      "execution_count": null,
      "outputs": [
        {
          "output_type": "execute_result",
          "data": {
            "application/vnd.google.colaboratory.intrinsic+json": {
              "type": "string"
            },
            "text/plain": [
              "'<iframe id=\"igraph\" scrolling=\"no\" style=\"border:none;\" seamless=\"seamless\" src=\"https://plotly.com/~vinaysahit/38.embed\" height=\"525\" width=\"100%\"></iframe>'"
            ]
          },
          "metadata": {},
          "execution_count": 37
        }
      ]
    },
    {
      "cell_type": "code",
      "source": [
        "#Kansas\n",
        "predict_state_iframe(\"Kansas\")"
      ],
      "metadata": {
        "colab": {
          "base_uri": "https://localhost:8080/",
          "height": 53
        },
        "id": "MfqA1BC1XI_-",
        "outputId": "19a1f81b-4b35-4fb5-9b55-19fc06629dc8"
      },
      "execution_count": null,
      "outputs": [
        {
          "output_type": "execute_result",
          "data": {
            "application/vnd.google.colaboratory.intrinsic+json": {
              "type": "string"
            },
            "text/plain": [
              "'<iframe id=\"igraph\" scrolling=\"no\" style=\"border:none;\" seamless=\"seamless\" src=\"https://plotly.com/~vinaysahit/40.embed\" height=\"525\" width=\"100%\"></iframe>'"
            ]
          },
          "metadata": {},
          "execution_count": 38
        }
      ]
    },
    {
      "cell_type": "code",
      "source": [
        "#Kentucky\n",
        "predict_state_iframe(\"Kentucky\")"
      ],
      "metadata": {
        "colab": {
          "base_uri": "https://localhost:8080/",
          "height": 53
        },
        "id": "-9MtpOzSXRsa",
        "outputId": "71e6ae42-b965-4385-8bd9-9a01748c9ba8"
      },
      "execution_count": null,
      "outputs": [
        {
          "output_type": "execute_result",
          "data": {
            "application/vnd.google.colaboratory.intrinsic+json": {
              "type": "string"
            },
            "text/plain": [
              "'<iframe id=\"igraph\" scrolling=\"no\" style=\"border:none;\" seamless=\"seamless\" src=\"https://plotly.com/~vinaysahit/42.embed\" height=\"525\" width=\"100%\"></iframe>'"
            ]
          },
          "metadata": {},
          "execution_count": 39
        }
      ]
    },
    {
      "cell_type": "code",
      "source": [
        "#Louisiana\n",
        "predict_state_iframe(\"Louisiana\")"
      ],
      "metadata": {
        "colab": {
          "base_uri": "https://localhost:8080/",
          "height": 53
        },
        "id": "I6Q-tY0jXax0",
        "outputId": "53022d70-3ce4-4de3-de1a-e7742044bee2"
      },
      "execution_count": null,
      "outputs": [
        {
          "output_type": "execute_result",
          "data": {
            "application/vnd.google.colaboratory.intrinsic+json": {
              "type": "string"
            },
            "text/plain": [
              "'<iframe id=\"igraph\" scrolling=\"no\" style=\"border:none;\" seamless=\"seamless\" src=\"https://plotly.com/~vinaysahit/44.embed\" height=\"525\" width=\"100%\"></iframe>'"
            ]
          },
          "metadata": {},
          "execution_count": 40
        }
      ]
    },
    {
      "cell_type": "code",
      "source": [
        "#Maine\n",
        "predict_state_iframe(\"Maine\")"
      ],
      "metadata": {
        "colab": {
          "base_uri": "https://localhost:8080/",
          "height": 53
        },
        "id": "pDOtknYEXqPR",
        "outputId": "7439c0b1-13f8-4ad7-bf09-e0fbc8524903"
      },
      "execution_count": null,
      "outputs": [
        {
          "output_type": "execute_result",
          "data": {
            "application/vnd.google.colaboratory.intrinsic+json": {
              "type": "string"
            },
            "text/plain": [
              "'<iframe id=\"igraph\" scrolling=\"no\" style=\"border:none;\" seamless=\"seamless\" src=\"https://plotly.com/~vinaysahit/46.embed\" height=\"525\" width=\"100%\"></iframe>'"
            ]
          },
          "metadata": {},
          "execution_count": 41
        }
      ]
    },
    {
      "cell_type": "code",
      "source": [
        "#Maryland\n",
        "predict_state_iframe(\"Maryland\")"
      ],
      "metadata": {
        "colab": {
          "base_uri": "https://localhost:8080/",
          "height": 53
        },
        "id": "qTEjxBOeXzyZ",
        "outputId": "894f9ee1-7b4d-4351-f38e-d70f2514bc27"
      },
      "execution_count": null,
      "outputs": [
        {
          "output_type": "execute_result",
          "data": {
            "application/vnd.google.colaboratory.intrinsic+json": {
              "type": "string"
            },
            "text/plain": [
              "'<iframe id=\"igraph\" scrolling=\"no\" style=\"border:none;\" seamless=\"seamless\" src=\"https://plotly.com/~vinaysahit/48.embed\" height=\"525\" width=\"100%\"></iframe>'"
            ]
          },
          "metadata": {},
          "execution_count": 42
        }
      ]
    },
    {
      "cell_type": "code",
      "source": [
        "#Massachusetts\n",
        "predict_state_iframe(\"Massachusetts\")"
      ],
      "metadata": {
        "colab": {
          "base_uri": "https://localhost:8080/",
          "height": 53
        },
        "id": "ekg4HBVDX0m-",
        "outputId": "75908c12-7e6b-43df-e8ce-1b2afac6ff7d"
      },
      "execution_count": null,
      "outputs": [
        {
          "output_type": "execute_result",
          "data": {
            "application/vnd.google.colaboratory.intrinsic+json": {
              "type": "string"
            },
            "text/plain": [
              "'<iframe id=\"igraph\" scrolling=\"no\" style=\"border:none;\" seamless=\"seamless\" src=\"https://plotly.com/~vinaysahit/50.embed\" height=\"525\" width=\"100%\"></iframe>'"
            ]
          },
          "metadata": {},
          "execution_count": 43
        }
      ]
    },
    {
      "cell_type": "code",
      "source": [
        "#Michigan\n",
        "predict_state_iframe(\"Michigan\")"
      ],
      "metadata": {
        "colab": {
          "base_uri": "https://localhost:8080/",
          "height": 53
        },
        "id": "ZhSL-yzAYDlE",
        "outputId": "41f6ca1d-a494-4760-b2bb-8cfbbd9daaaa"
      },
      "execution_count": null,
      "outputs": [
        {
          "output_type": "execute_result",
          "data": {
            "application/vnd.google.colaboratory.intrinsic+json": {
              "type": "string"
            },
            "text/plain": [
              "'<iframe id=\"igraph\" scrolling=\"no\" style=\"border:none;\" seamless=\"seamless\" src=\"https://plotly.com/~vinaysahit/52.embed\" height=\"525\" width=\"100%\"></iframe>'"
            ]
          },
          "metadata": {},
          "execution_count": 44
        }
      ]
    },
    {
      "cell_type": "code",
      "source": [
        "#Minnesota\n",
        "predict_state_iframe(\"Minnesota\")"
      ],
      "metadata": {
        "colab": {
          "base_uri": "https://localhost:8080/",
          "height": 53
        },
        "id": "iSTo14UqYEUC",
        "outputId": "094b676f-4af7-46d0-a0b7-df908bb91c5f"
      },
      "execution_count": null,
      "outputs": [
        {
          "output_type": "execute_result",
          "data": {
            "application/vnd.google.colaboratory.intrinsic+json": {
              "type": "string"
            },
            "text/plain": [
              "'<iframe id=\"igraph\" scrolling=\"no\" style=\"border:none;\" seamless=\"seamless\" src=\"https://plotly.com/~vinaysahit/54.embed\" height=\"525\" width=\"100%\"></iframe>'"
            ]
          },
          "metadata": {},
          "execution_count": 45
        }
      ]
    },
    {
      "cell_type": "code",
      "source": [
        "#Mississippi\n",
        "predict_state_iframe(\"Mississippi\")"
      ],
      "metadata": {
        "colab": {
          "base_uri": "https://localhost:8080/",
          "height": 53
        },
        "id": "PvSXge7JYVCO",
        "outputId": "c7fd6ba0-429f-4838-dbb3-70403c550403"
      },
      "execution_count": null,
      "outputs": [
        {
          "output_type": "execute_result",
          "data": {
            "application/vnd.google.colaboratory.intrinsic+json": {
              "type": "string"
            },
            "text/plain": [
              "'<iframe id=\"igraph\" scrolling=\"no\" style=\"border:none;\" seamless=\"seamless\" src=\"https://plotly.com/~vinaysahit/56.embed\" height=\"525\" width=\"100%\"></iframe>'"
            ]
          },
          "metadata": {},
          "execution_count": 46
        }
      ]
    },
    {
      "cell_type": "code",
      "source": [
        "#Missouri\n",
        "predict_state_iframe(\"Missouri\")"
      ],
      "metadata": {
        "colab": {
          "base_uri": "https://localhost:8080/",
          "height": 53
        },
        "id": "lFxoOvrEYVvn",
        "outputId": "e6897cf9-ff99-4bed-b286-72ba39c8e8f4"
      },
      "execution_count": null,
      "outputs": [
        {
          "output_type": "execute_result",
          "data": {
            "application/vnd.google.colaboratory.intrinsic+json": {
              "type": "string"
            },
            "text/plain": [
              "'<iframe id=\"igraph\" scrolling=\"no\" style=\"border:none;\" seamless=\"seamless\" src=\"https://plotly.com/~vinaysahit/58.embed\" height=\"525\" width=\"100%\"></iframe>'"
            ]
          },
          "metadata": {},
          "execution_count": 47
        }
      ]
    },
    {
      "cell_type": "code",
      "source": [
        "#Montana\n",
        "predict_state_iframe(\"Montana\")"
      ],
      "metadata": {
        "colab": {
          "base_uri": "https://localhost:8080/",
          "height": 53
        },
        "id": "l0idvTmxYi6m",
        "outputId": "b1a0121c-4637-454e-d51b-c04e6b1eb4b4"
      },
      "execution_count": null,
      "outputs": [
        {
          "output_type": "execute_result",
          "data": {
            "application/vnd.google.colaboratory.intrinsic+json": {
              "type": "string"
            },
            "text/plain": [
              "'<iframe id=\"igraph\" scrolling=\"no\" style=\"border:none;\" seamless=\"seamless\" src=\"https://plotly.com/~vinaysahit/60.embed\" height=\"525\" width=\"100%\"></iframe>'"
            ]
          },
          "metadata": {},
          "execution_count": 48
        }
      ]
    },
    {
      "cell_type": "code",
      "source": [
        "#Nebraska\n",
        "predict_state_iframe(\"Nebraska\")"
      ],
      "metadata": {
        "colab": {
          "base_uri": "https://localhost:8080/",
          "height": 53
        },
        "id": "YUvgBedoYjpA",
        "outputId": "cd6f1b31-7548-45e9-ea7b-81ee3cb884c4"
      },
      "execution_count": null,
      "outputs": [
        {
          "output_type": "execute_result",
          "data": {
            "application/vnd.google.colaboratory.intrinsic+json": {
              "type": "string"
            },
            "text/plain": [
              "'<iframe id=\"igraph\" scrolling=\"no\" style=\"border:none;\" seamless=\"seamless\" src=\"https://plotly.com/~vinaysahit/62.embed\" height=\"525\" width=\"100%\"></iframe>'"
            ]
          },
          "metadata": {},
          "execution_count": 49
        }
      ]
    },
    {
      "cell_type": "code",
      "source": [
        "#Nevada\n",
        "predict_state_iframe(\"Nevada\")"
      ],
      "metadata": {
        "colab": {
          "base_uri": "https://localhost:8080/",
          "height": 53
        },
        "id": "PBIvuj5RYwfD",
        "outputId": "a1d46ad2-3c01-4acc-91e5-f9a1d3dbef86"
      },
      "execution_count": null,
      "outputs": [
        {
          "output_type": "execute_result",
          "data": {
            "application/vnd.google.colaboratory.intrinsic+json": {
              "type": "string"
            },
            "text/plain": [
              "'<iframe id=\"igraph\" scrolling=\"no\" style=\"border:none;\" seamless=\"seamless\" src=\"https://plotly.com/~vinaysahit/64.embed\" height=\"525\" width=\"100%\"></iframe>'"
            ]
          },
          "metadata": {},
          "execution_count": 50
        }
      ]
    },
    {
      "cell_type": "code",
      "source": [
        "#New Hampshire\n",
        "predict_state_iframe(\"New Hampshire\")"
      ],
      "metadata": {
        "colab": {
          "base_uri": "https://localhost:8080/",
          "height": 53
        },
        "id": "e7hSDKBcY5Cl",
        "outputId": "045ce81e-88ca-4470-8149-fbca786f502d"
      },
      "execution_count": null,
      "outputs": [
        {
          "output_type": "execute_result",
          "data": {
            "application/vnd.google.colaboratory.intrinsic+json": {
              "type": "string"
            },
            "text/plain": [
              "'<iframe id=\"igraph\" scrolling=\"no\" style=\"border:none;\" seamless=\"seamless\" src=\"https://plotly.com/~vinaysahit/66.embed\" height=\"525\" width=\"100%\"></iframe>'"
            ]
          },
          "metadata": {},
          "execution_count": 51
        }
      ]
    },
    {
      "cell_type": "code",
      "source": [
        "#New Jersey\n",
        "predict_state_iframe(\"New Jersey\")"
      ],
      "metadata": {
        "colab": {
          "base_uri": "https://localhost:8080/",
          "height": 53
        },
        "id": "-jU_JToZZEhY",
        "outputId": "e0f4f293-8f08-46bc-f0ee-691d56335f25"
      },
      "execution_count": null,
      "outputs": [
        {
          "output_type": "execute_result",
          "data": {
            "application/vnd.google.colaboratory.intrinsic+json": {
              "type": "string"
            },
            "text/plain": [
              "'<iframe id=\"igraph\" scrolling=\"no\" style=\"border:none;\" seamless=\"seamless\" src=\"https://plotly.com/~vinaysahit/68.embed\" height=\"525\" width=\"100%\"></iframe>'"
            ]
          },
          "metadata": {},
          "execution_count": 52
        }
      ]
    },
    {
      "cell_type": "code",
      "source": [
        "#New Mexico\n",
        "predict_state_iframe(\"New Mexico\")"
      ],
      "metadata": {
        "colab": {
          "base_uri": "https://localhost:8080/",
          "height": 53
        },
        "id": "fdJ7mP70ZIqh",
        "outputId": "cdc5419e-b852-4183-ea1a-f8022d2f7d79"
      },
      "execution_count": null,
      "outputs": [
        {
          "output_type": "execute_result",
          "data": {
            "application/vnd.google.colaboratory.intrinsic+json": {
              "type": "string"
            },
            "text/plain": [
              "'<iframe id=\"igraph\" scrolling=\"no\" style=\"border:none;\" seamless=\"seamless\" src=\"https://plotly.com/~vinaysahit/70.embed\" height=\"525\" width=\"100%\"></iframe>'"
            ]
          },
          "metadata": {},
          "execution_count": 53
        }
      ]
    },
    {
      "cell_type": "code",
      "source": [
        "#New York\n",
        "predict_state_iframe(\"New York\")"
      ],
      "metadata": {
        "colab": {
          "base_uri": "https://localhost:8080/",
          "height": 53
        },
        "id": "g2IHcwvWZPVW",
        "outputId": "4e26468c-6ec0-4eb0-e5dc-e0fb5a11d943"
      },
      "execution_count": null,
      "outputs": [
        {
          "output_type": "execute_result",
          "data": {
            "application/vnd.google.colaboratory.intrinsic+json": {
              "type": "string"
            },
            "text/plain": [
              "'<iframe id=\"igraph\" scrolling=\"no\" style=\"border:none;\" seamless=\"seamless\" src=\"https://plotly.com/~vinaysahit/72.embed\" height=\"525\" width=\"100%\"></iframe>'"
            ]
          },
          "metadata": {},
          "execution_count": 54
        }
      ]
    },
    {
      "cell_type": "code",
      "source": [
        "#North Carolina\n",
        "predict_state_iframe(\"North Carolina\")"
      ],
      "metadata": {
        "colab": {
          "base_uri": "https://localhost:8080/",
          "height": 53
        },
        "id": "EdQqSRnOZV-s",
        "outputId": "eeb81e96-e483-41bf-b104-a27db1ce7499"
      },
      "execution_count": null,
      "outputs": [
        {
          "output_type": "execute_result",
          "data": {
            "application/vnd.google.colaboratory.intrinsic+json": {
              "type": "string"
            },
            "text/plain": [
              "'<iframe id=\"igraph\" scrolling=\"no\" style=\"border:none;\" seamless=\"seamless\" src=\"https://plotly.com/~vinaysahit/74.embed\" height=\"525\" width=\"100%\"></iframe>'"
            ]
          },
          "metadata": {},
          "execution_count": 55
        }
      ]
    },
    {
      "cell_type": "code",
      "source": [
        "#North Dakota\n",
        "predict_state_iframe(\"North Dakota\")"
      ],
      "metadata": {
        "colab": {
          "base_uri": "https://localhost:8080/",
          "height": 53
        },
        "id": "R4UfAZr_ZlDw",
        "outputId": "4e522656-32d4-4439-f2cd-abdeb6b80a94"
      },
      "execution_count": null,
      "outputs": [
        {
          "output_type": "execute_result",
          "data": {
            "application/vnd.google.colaboratory.intrinsic+json": {
              "type": "string"
            },
            "text/plain": [
              "'<iframe id=\"igraph\" scrolling=\"no\" style=\"border:none;\" seamless=\"seamless\" src=\"https://plotly.com/~vinaysahit/76.embed\" height=\"525\" width=\"100%\"></iframe>'"
            ]
          },
          "metadata": {},
          "execution_count": 56
        }
      ]
    },
    {
      "cell_type": "code",
      "source": [
        "#Ohio\n",
        "predict_state_iframe(\"Ohio\")"
      ],
      "metadata": {
        "colab": {
          "base_uri": "https://localhost:8080/",
          "height": 53
        },
        "id": "SurO57F2ZqOO",
        "outputId": "d9385d51-7a4b-4863-96c3-ea00b23be3f3"
      },
      "execution_count": null,
      "outputs": [
        {
          "output_type": "execute_result",
          "data": {
            "application/vnd.google.colaboratory.intrinsic+json": {
              "type": "string"
            },
            "text/plain": [
              "'<iframe id=\"igraph\" scrolling=\"no\" style=\"border:none;\" seamless=\"seamless\" src=\"https://plotly.com/~vinaysahit/78.embed\" height=\"525\" width=\"100%\"></iframe>'"
            ]
          },
          "metadata": {},
          "execution_count": 57
        }
      ]
    },
    {
      "cell_type": "code",
      "source": [
        "#Oklahoma\n",
        "predict_state_iframe(\"Oklahoma\")"
      ],
      "metadata": {
        "colab": {
          "base_uri": "https://localhost:8080/",
          "height": 53
        },
        "id": "uh-ZlI-CZ9gl",
        "outputId": "6dd329ba-9ad2-4825-977b-d22a3940e198"
      },
      "execution_count": null,
      "outputs": [
        {
          "output_type": "execute_result",
          "data": {
            "application/vnd.google.colaboratory.intrinsic+json": {
              "type": "string"
            },
            "text/plain": [
              "'<iframe id=\"igraph\" scrolling=\"no\" style=\"border:none;\" seamless=\"seamless\" src=\"https://plotly.com/~vinaysahit/80.embed\" height=\"525\" width=\"100%\"></iframe>'"
            ]
          },
          "metadata": {},
          "execution_count": 58
        }
      ]
    },
    {
      "cell_type": "code",
      "source": [
        "#Oregon\n",
        "predict_state_iframe(\"Oregon\")"
      ],
      "metadata": {
        "colab": {
          "base_uri": "https://localhost:8080/",
          "height": 53
        },
        "id": "MhsfSFB7aHVv",
        "outputId": "a67794f4-a7e7-4a21-ca7b-d32aa8a80f81"
      },
      "execution_count": null,
      "outputs": [
        {
          "output_type": "execute_result",
          "data": {
            "application/vnd.google.colaboratory.intrinsic+json": {
              "type": "string"
            },
            "text/plain": [
              "'<iframe id=\"igraph\" scrolling=\"no\" style=\"border:none;\" seamless=\"seamless\" src=\"https://plotly.com/~vinaysahit/82.embed\" height=\"525\" width=\"100%\"></iframe>'"
            ]
          },
          "metadata": {},
          "execution_count": 59
        }
      ]
    },
    {
      "cell_type": "code",
      "source": [
        "#Pennsylvania\n",
        "predict_state_iframe(\"Pennsylvania\")"
      ],
      "metadata": {
        "colab": {
          "base_uri": "https://localhost:8080/",
          "height": 53
        },
        "id": "QDh2bD2SaP_Z",
        "outputId": "4e9e548d-313c-4353-aba7-3a3a11855377"
      },
      "execution_count": null,
      "outputs": [
        {
          "output_type": "execute_result",
          "data": {
            "application/vnd.google.colaboratory.intrinsic+json": {
              "type": "string"
            },
            "text/plain": [
              "'<iframe id=\"igraph\" scrolling=\"no\" style=\"border:none;\" seamless=\"seamless\" src=\"https://plotly.com/~vinaysahit/84.embed\" height=\"525\" width=\"100%\"></iframe>'"
            ]
          },
          "metadata": {},
          "execution_count": 60
        }
      ]
    },
    {
      "cell_type": "code",
      "source": [
        "#Rhode Island\n",
        "predict_state_iframe(\"Rhode Island\")"
      ],
      "metadata": {
        "colab": {
          "base_uri": "https://localhost:8080/",
          "height": 53
        },
        "id": "WHqivkaNac5R",
        "outputId": "27d4dc43-a641-4ed6-92fe-f841ad15b09a"
      },
      "execution_count": null,
      "outputs": [
        {
          "output_type": "execute_result",
          "data": {
            "application/vnd.google.colaboratory.intrinsic+json": {
              "type": "string"
            },
            "text/plain": [
              "'<iframe id=\"igraph\" scrolling=\"no\" style=\"border:none;\" seamless=\"seamless\" src=\"https://plotly.com/~vinaysahit/86.embed\" height=\"525\" width=\"100%\"></iframe>'"
            ]
          },
          "metadata": {},
          "execution_count": 63
        }
      ]
    },
    {
      "cell_type": "code",
      "source": [
        "#South Carolina\n",
        "predict_state_iframe(\"South Carolina\")"
      ],
      "metadata": {
        "colab": {
          "base_uri": "https://localhost:8080/",
          "height": 53
        },
        "id": "6pg1Zb64av3O",
        "outputId": "dfda87be-f931-42d2-d77d-7dc0818c474b"
      },
      "execution_count": null,
      "outputs": [
        {
          "output_type": "execute_result",
          "data": {
            "application/vnd.google.colaboratory.intrinsic+json": {
              "type": "string"
            },
            "text/plain": [
              "'<iframe id=\"igraph\" scrolling=\"no\" style=\"border:none;\" seamless=\"seamless\" src=\"https://plotly.com/~vinaysahit/88.embed\" height=\"525\" width=\"100%\"></iframe>'"
            ]
          },
          "metadata": {},
          "execution_count": 64
        }
      ]
    },
    {
      "cell_type": "code",
      "source": [
        "#South Dakota\n",
        "predict_state_iframe(\"South Dakota\")"
      ],
      "metadata": {
        "colab": {
          "base_uri": "https://localhost:8080/",
          "height": 53
        },
        "id": "EVjI-WtYa8eU",
        "outputId": "68655493-af39-492e-8d20-74f10edaaa7e"
      },
      "execution_count": null,
      "outputs": [
        {
          "output_type": "execute_result",
          "data": {
            "application/vnd.google.colaboratory.intrinsic+json": {
              "type": "string"
            },
            "text/plain": [
              "'<iframe id=\"igraph\" scrolling=\"no\" style=\"border:none;\" seamless=\"seamless\" src=\"https://plotly.com/~vinaysahit/90.embed\" height=\"525\" width=\"100%\"></iframe>'"
            ]
          },
          "metadata": {},
          "execution_count": 65
        }
      ]
    },
    {
      "cell_type": "code",
      "source": [
        "#Tennessee\n",
        "predict_state_iframe(\"Tennessee\")"
      ],
      "metadata": {
        "colab": {
          "base_uri": "https://localhost:8080/",
          "height": 53
        },
        "id": "1J7XVU9sbA9_",
        "outputId": "d15e20af-e2b4-4064-e2a0-55720d14f502"
      },
      "execution_count": null,
      "outputs": [
        {
          "output_type": "execute_result",
          "data": {
            "application/vnd.google.colaboratory.intrinsic+json": {
              "type": "string"
            },
            "text/plain": [
              "'<iframe id=\"igraph\" scrolling=\"no\" style=\"border:none;\" seamless=\"seamless\" src=\"https://plotly.com/~vinaysahit/92.embed\" height=\"525\" width=\"100%\"></iframe>'"
            ]
          },
          "metadata": {},
          "execution_count": 66
        }
      ]
    },
    {
      "cell_type": "code",
      "source": [
        "#Texas\n",
        "predict_state_iframe(\"Texas\")"
      ],
      "metadata": {
        "colab": {
          "base_uri": "https://localhost:8080/",
          "height": 53
        },
        "id": "LRIagiyAbUZN",
        "outputId": "296fd159-f219-4141-d8fb-172a75f09f84"
      },
      "execution_count": null,
      "outputs": [
        {
          "output_type": "execute_result",
          "data": {
            "application/vnd.google.colaboratory.intrinsic+json": {
              "type": "string"
            },
            "text/plain": [
              "'<iframe id=\"igraph\" scrolling=\"no\" style=\"border:none;\" seamless=\"seamless\" src=\"https://plotly.com/~vinaysahit/94.embed\" height=\"525\" width=\"100%\"></iframe>'"
            ]
          },
          "metadata": {},
          "execution_count": 67
        }
      ]
    },
    {
      "cell_type": "code",
      "source": [
        "#Utah\n",
        "predict_state_iframe(\"Utah\")"
      ],
      "metadata": {
        "colab": {
          "base_uri": "https://localhost:8080/",
          "height": 53
        },
        "id": "BKgV1tPsbc9U",
        "outputId": "76210795-c728-47fd-cb94-3f3ed2703d3f"
      },
      "execution_count": null,
      "outputs": [
        {
          "output_type": "execute_result",
          "data": {
            "application/vnd.google.colaboratory.intrinsic+json": {
              "type": "string"
            },
            "text/plain": [
              "'<iframe id=\"igraph\" scrolling=\"no\" style=\"border:none;\" seamless=\"seamless\" src=\"https://plotly.com/~vinaysahit/96.embed\" height=\"525\" width=\"100%\"></iframe>'"
            ]
          },
          "metadata": {},
          "execution_count": 68
        }
      ]
    },
    {
      "cell_type": "code",
      "source": [
        "#Vermont\n",
        "predict_state_iframe(\"Vermont\")"
      ],
      "metadata": {
        "colab": {
          "base_uri": "https://localhost:8080/",
          "height": 53
        },
        "id": "_8j9mWdFbjsC",
        "outputId": "b19022b7-4e37-46b0-c2b8-18807f293940"
      },
      "execution_count": null,
      "outputs": [
        {
          "output_type": "execute_result",
          "data": {
            "application/vnd.google.colaboratory.intrinsic+json": {
              "type": "string"
            },
            "text/plain": [
              "'<iframe id=\"igraph\" scrolling=\"no\" style=\"border:none;\" seamless=\"seamless\" src=\"https://plotly.com/~vinaysahit/98.embed\" height=\"525\" width=\"100%\"></iframe>'"
            ]
          },
          "metadata": {},
          "execution_count": 69
        }
      ]
    },
    {
      "cell_type": "code",
      "source": [
        "#Virginia\n",
        "predict_state_iframe(\"Virginia\")"
      ],
      "metadata": {
        "colab": {
          "base_uri": "https://localhost:8080/",
          "height": 53
        },
        "id": "0Lyc6t9DbwXp",
        "outputId": "ba97f5bd-85e0-45d6-dbdc-ca967a22d380"
      },
      "execution_count": null,
      "outputs": [
        {
          "output_type": "execute_result",
          "data": {
            "application/vnd.google.colaboratory.intrinsic+json": {
              "type": "string"
            },
            "text/plain": [
              "'<iframe id=\"igraph\" scrolling=\"no\" style=\"border:none;\" seamless=\"seamless\" src=\"https://plotly.com/~vinaysahit/100.embed\" height=\"525\" width=\"100%\"></iframe>'"
            ]
          },
          "metadata": {},
          "execution_count": 70
        }
      ]
    },
    {
      "cell_type": "code",
      "source": [
        "#Washington\n",
        "predict_state_iframe(\"Washington\")"
      ],
      "metadata": {
        "colab": {
          "base_uri": "https://localhost:8080/",
          "height": 53
        },
        "id": "AIOMs7PQb5Hf",
        "outputId": "86d46225-9054-4523-c009-200618240178"
      },
      "execution_count": null,
      "outputs": [
        {
          "output_type": "execute_result",
          "data": {
            "application/vnd.google.colaboratory.intrinsic+json": {
              "type": "string"
            },
            "text/plain": [
              "'<iframe id=\"igraph\" scrolling=\"no\" style=\"border:none;\" seamless=\"seamless\" src=\"https://plotly.com/~vinaysahit/102.embed\" height=\"525\" width=\"100%\"></iframe>'"
            ]
          },
          "metadata": {},
          "execution_count": 71
        }
      ]
    },
    {
      "cell_type": "code",
      "source": [
        "#West Virginia\n",
        "predict_state_iframe(\"West Virginia\")"
      ],
      "metadata": {
        "colab": {
          "base_uri": "https://localhost:8080/",
          "height": 53
        },
        "id": "2IwttJFNcCQ4",
        "outputId": "2f040d71-052c-47de-8965-ddf4cdf8cdca"
      },
      "execution_count": null,
      "outputs": [
        {
          "output_type": "execute_result",
          "data": {
            "application/vnd.google.colaboratory.intrinsic+json": {
              "type": "string"
            },
            "text/plain": [
              "'<iframe id=\"igraph\" scrolling=\"no\" style=\"border:none;\" seamless=\"seamless\" src=\"https://plotly.com/~vinaysahit/104.embed\" height=\"525\" width=\"100%\"></iframe>'"
            ]
          },
          "metadata": {},
          "execution_count": 72
        }
      ]
    },
    {
      "cell_type": "code",
      "source": [
        "#Wisconsin\n",
        "predict_state_iframe(\"Wisconsin\")"
      ],
      "metadata": {
        "colab": {
          "base_uri": "https://localhost:8080/",
          "height": 53
        },
        "id": "rn9PaJ2QcRS3",
        "outputId": "d0084f33-8e12-4a16-b9ff-4c71f4c4e2c3"
      },
      "execution_count": null,
      "outputs": [
        {
          "output_type": "execute_result",
          "data": {
            "application/vnd.google.colaboratory.intrinsic+json": {
              "type": "string"
            },
            "text/plain": [
              "'<iframe id=\"igraph\" scrolling=\"no\" style=\"border:none;\" seamless=\"seamless\" src=\"https://plotly.com/~vinaysahit/106.embed\" height=\"525\" width=\"100%\"></iframe>'"
            ]
          },
          "metadata": {},
          "execution_count": 75
        }
      ]
    },
    {
      "cell_type": "code",
      "source": [
        "#Wyoming\n",
        "predict_state_iframe(\"Wyoming\")"
      ],
      "metadata": {
        "colab": {
          "base_uri": "https://localhost:8080/",
          "height": 53
        },
        "id": "PO_qv6Hlcr7Q",
        "outputId": "ae73dcda-2064-4866-d843-9ba6b60034d6"
      },
      "execution_count": null,
      "outputs": [
        {
          "output_type": "execute_result",
          "data": {
            "application/vnd.google.colaboratory.intrinsic+json": {
              "type": "string"
            },
            "text/plain": [
              "'<iframe id=\"igraph\" scrolling=\"no\" style=\"border:none;\" seamless=\"seamless\" src=\"https://plotly.com/~vinaysahit/108.embed\" height=\"525\" width=\"100%\"></iframe>'"
            ]
          },
          "metadata": {},
          "execution_count": 76
        }
      ]
    }
  ]
}